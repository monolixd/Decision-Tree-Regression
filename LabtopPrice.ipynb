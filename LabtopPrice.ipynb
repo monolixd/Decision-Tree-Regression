{
  "nbformat": 4,
  "nbformat_minor": 0,
  "metadata": {
    "colab": {
      "provenance": [],
      "authorship_tag": "ABX9TyPcYgnjpCLZyCb4mjPdjxWh",
      "include_colab_link": true
    },
    "kernelspec": {
      "name": "python3",
      "display_name": "Python 3"
    },
    "language_info": {
      "name": "python"
    }
  },
  "cells": [
    {
      "cell_type": "markdown",
      "metadata": {
        "id": "view-in-github",
        "colab_type": "text"
      },
      "source": [
        "<a href=\"https://colab.research.google.com/github/monolixd/Decision-Tree-Regression/blob/main/LabtopPrice.ipynb\" target=\"_parent\"><img src=\"https://colab.research.google.com/assets/colab-badge.svg\" alt=\"Open In Colab\"/></a>"
      ]
    },
    {
      "cell_type": "markdown",
      "source": [
        "# 1. ติดตั้งและตั้งค่า Kaggle API บน Google Colab"
      ],
      "metadata": {
        "id": "QlrJwYOslJnP"
      }
    },
    {
      "cell_type": "markdown",
      "source": [
        "## 1.1 อัปโหลดไฟล์ kaggle.json"
      ],
      "metadata": {
        "id": "ysMfdo-_lOe4"
      }
    },
    {
      "cell_type": "code",
      "source": [
        "from google.colab import files\n",
        "\n",
        "# อัปโหลดไฟล์ kaggle.json\n",
        "uploaded = files.upload()"
      ],
      "metadata": {
        "colab": {
          "base_uri": "https://localhost:8080/",
          "height": 73
        },
        "id": "zSb5tooikn8f",
        "outputId": "f685a543-9101-4182-957c-531e5ea804d9"
      },
      "execution_count": null,
      "outputs": [
        {
          "output_type": "display_data",
          "data": {
            "text/plain": [
              "<IPython.core.display.HTML object>"
            ],
            "text/html": [
              "\n",
              "     <input type=\"file\" id=\"files-1ffc529e-5245-478f-aeb1-6c75570aec4f\" name=\"files[]\" multiple disabled\n",
              "        style=\"border:none\" />\n",
              "     <output id=\"result-1ffc529e-5245-478f-aeb1-6c75570aec4f\">\n",
              "      Upload widget is only available when the cell has been executed in the\n",
              "      current browser session. Please rerun this cell to enable.\n",
              "      </output>\n",
              "      <script>// Copyright 2017 Google LLC\n",
              "//\n",
              "// Licensed under the Apache License, Version 2.0 (the \"License\");\n",
              "// you may not use this file except in compliance with the License.\n",
              "// You may obtain a copy of the License at\n",
              "//\n",
              "//      http://www.apache.org/licenses/LICENSE-2.0\n",
              "//\n",
              "// Unless required by applicable law or agreed to in writing, software\n",
              "// distributed under the License is distributed on an \"AS IS\" BASIS,\n",
              "// WITHOUT WARRANTIES OR CONDITIONS OF ANY KIND, either express or implied.\n",
              "// See the License for the specific language governing permissions and\n",
              "// limitations under the License.\n",
              "\n",
              "/**\n",
              " * @fileoverview Helpers for google.colab Python module.\n",
              " */\n",
              "(function(scope) {\n",
              "function span(text, styleAttributes = {}) {\n",
              "  const element = document.createElement('span');\n",
              "  element.textContent = text;\n",
              "  for (const key of Object.keys(styleAttributes)) {\n",
              "    element.style[key] = styleAttributes[key];\n",
              "  }\n",
              "  return element;\n",
              "}\n",
              "\n",
              "// Max number of bytes which will be uploaded at a time.\n",
              "const MAX_PAYLOAD_SIZE = 100 * 1024;\n",
              "\n",
              "function _uploadFiles(inputId, outputId) {\n",
              "  const steps = uploadFilesStep(inputId, outputId);\n",
              "  const outputElement = document.getElementById(outputId);\n",
              "  // Cache steps on the outputElement to make it available for the next call\n",
              "  // to uploadFilesContinue from Python.\n",
              "  outputElement.steps = steps;\n",
              "\n",
              "  return _uploadFilesContinue(outputId);\n",
              "}\n",
              "\n",
              "// This is roughly an async generator (not supported in the browser yet),\n",
              "// where there are multiple asynchronous steps and the Python side is going\n",
              "// to poll for completion of each step.\n",
              "// This uses a Promise to block the python side on completion of each step,\n",
              "// then passes the result of the previous step as the input to the next step.\n",
              "function _uploadFilesContinue(outputId) {\n",
              "  const outputElement = document.getElementById(outputId);\n",
              "  const steps = outputElement.steps;\n",
              "\n",
              "  const next = steps.next(outputElement.lastPromiseValue);\n",
              "  return Promise.resolve(next.value.promise).then((value) => {\n",
              "    // Cache the last promise value to make it available to the next\n",
              "    // step of the generator.\n",
              "    outputElement.lastPromiseValue = value;\n",
              "    return next.value.response;\n",
              "  });\n",
              "}\n",
              "\n",
              "/**\n",
              " * Generator function which is called between each async step of the upload\n",
              " * process.\n",
              " * @param {string} inputId Element ID of the input file picker element.\n",
              " * @param {string} outputId Element ID of the output display.\n",
              " * @return {!Iterable<!Object>} Iterable of next steps.\n",
              " */\n",
              "function* uploadFilesStep(inputId, outputId) {\n",
              "  const inputElement = document.getElementById(inputId);\n",
              "  inputElement.disabled = false;\n",
              "\n",
              "  const outputElement = document.getElementById(outputId);\n",
              "  outputElement.innerHTML = '';\n",
              "\n",
              "  const pickedPromise = new Promise((resolve) => {\n",
              "    inputElement.addEventListener('change', (e) => {\n",
              "      resolve(e.target.files);\n",
              "    });\n",
              "  });\n",
              "\n",
              "  const cancel = document.createElement('button');\n",
              "  inputElement.parentElement.appendChild(cancel);\n",
              "  cancel.textContent = 'Cancel upload';\n",
              "  const cancelPromise = new Promise((resolve) => {\n",
              "    cancel.onclick = () => {\n",
              "      resolve(null);\n",
              "    };\n",
              "  });\n",
              "\n",
              "  // Wait for the user to pick the files.\n",
              "  const files = yield {\n",
              "    promise: Promise.race([pickedPromise, cancelPromise]),\n",
              "    response: {\n",
              "      action: 'starting',\n",
              "    }\n",
              "  };\n",
              "\n",
              "  cancel.remove();\n",
              "\n",
              "  // Disable the input element since further picks are not allowed.\n",
              "  inputElement.disabled = true;\n",
              "\n",
              "  if (!files) {\n",
              "    return {\n",
              "      response: {\n",
              "        action: 'complete',\n",
              "      }\n",
              "    };\n",
              "  }\n",
              "\n",
              "  for (const file of files) {\n",
              "    const li = document.createElement('li');\n",
              "    li.append(span(file.name, {fontWeight: 'bold'}));\n",
              "    li.append(span(\n",
              "        `(${file.type || 'n/a'}) - ${file.size} bytes, ` +\n",
              "        `last modified: ${\n",
              "            file.lastModifiedDate ? file.lastModifiedDate.toLocaleDateString() :\n",
              "                                    'n/a'} - `));\n",
              "    const percent = span('0% done');\n",
              "    li.appendChild(percent);\n",
              "\n",
              "    outputElement.appendChild(li);\n",
              "\n",
              "    const fileDataPromise = new Promise((resolve) => {\n",
              "      const reader = new FileReader();\n",
              "      reader.onload = (e) => {\n",
              "        resolve(e.target.result);\n",
              "      };\n",
              "      reader.readAsArrayBuffer(file);\n",
              "    });\n",
              "    // Wait for the data to be ready.\n",
              "    let fileData = yield {\n",
              "      promise: fileDataPromise,\n",
              "      response: {\n",
              "        action: 'continue',\n",
              "      }\n",
              "    };\n",
              "\n",
              "    // Use a chunked sending to avoid message size limits. See b/62115660.\n",
              "    let position = 0;\n",
              "    do {\n",
              "      const length = Math.min(fileData.byteLength - position, MAX_PAYLOAD_SIZE);\n",
              "      const chunk = new Uint8Array(fileData, position, length);\n",
              "      position += length;\n",
              "\n",
              "      const base64 = btoa(String.fromCharCode.apply(null, chunk));\n",
              "      yield {\n",
              "        response: {\n",
              "          action: 'append',\n",
              "          file: file.name,\n",
              "          data: base64,\n",
              "        },\n",
              "      };\n",
              "\n",
              "      let percentDone = fileData.byteLength === 0 ?\n",
              "          100 :\n",
              "          Math.round((position / fileData.byteLength) * 100);\n",
              "      percent.textContent = `${percentDone}% done`;\n",
              "\n",
              "    } while (position < fileData.byteLength);\n",
              "  }\n",
              "\n",
              "  // All done.\n",
              "  yield {\n",
              "    response: {\n",
              "      action: 'complete',\n",
              "    }\n",
              "  };\n",
              "}\n",
              "\n",
              "scope.google = scope.google || {};\n",
              "scope.google.colab = scope.google.colab || {};\n",
              "scope.google.colab._files = {\n",
              "  _uploadFiles,\n",
              "  _uploadFilesContinue,\n",
              "};\n",
              "})(self);\n",
              "</script> "
            ]
          },
          "metadata": {}
        },
        {
          "output_type": "stream",
          "name": "stdout",
          "text": [
            "Saving kaggle.json to kaggle.json\n"
          ]
        }
      ]
    },
    {
      "cell_type": "markdown",
      "source": [
        "## 1.2 ติดตั้งและตั้งค่า Kaggle"
      ],
      "metadata": {
        "id": "WRXAH3NRlMkI"
      }
    },
    {
      "cell_type": "code",
      "execution_count": null,
      "metadata": {
        "id": "mxCmm6ztjGt3"
      },
      "outputs": [],
      "source": [
        "# ติดตั้ง Kaggle\n",
        "!pip install -q kaggle\n",
        "\n",
        "# สร้างโฟลเดอร์ Kaggle\n",
        "!mkdir -p ~/.kaggle\n",
        "\n",
        "# ย้ายไฟล์ kaggle.json ไปยังโฟลเดอร์\n",
        "!cp kaggle.json ~/.kaggle/\n",
        "\n",
        "# ตั้งค่า Permission\n",
        "!chmod 600 ~/.kaggle/kaggle.json"
      ]
    },
    {
      "cell_type": "markdown",
      "source": [
        "## 1.3 ดาวน์โหลด Dataset จาก Kaggle"
      ],
      "metadata": {
        "id": "mdOm_1ABlPbS"
      }
    },
    {
      "cell_type": "code",
      "source": [
        "# ดาวน์โหลด Dataset\n",
        "!kaggle datasets download -d eslamelsolya/laptop-price-prediction\n",
        "\n",
        "# แตกไฟล์ ZIP\n",
        "!unzip laptop-price-prediction.zip"
      ],
      "metadata": {
        "colab": {
          "base_uri": "https://localhost:8080/"
        },
        "id": "Ybrmqrb1kL4O",
        "outputId": "36aae421-7f1e-43c8-9f9e-57b6f338f264"
      },
      "execution_count": null,
      "outputs": [
        {
          "output_type": "stream",
          "name": "stdout",
          "text": [
            "Dataset URL: https://www.kaggle.com/datasets/eslamelsolya/laptop-price-prediction\n",
            "License(s): unknown\n",
            "Downloading laptop-price-prediction.zip to /content\n",
            "  0% 0.00/398k [00:00<?, ?B/s]\n",
            "100% 398k/398k [00:00<00:00, 106MB/s]\n",
            "Archive:  laptop-price-prediction.zip\n",
            "  inflating: laptop_data.csv         \n",
            "  inflating: laptop_price.ipynb      \n"
          ]
        }
      ]
    },
    {
      "cell_type": "markdown",
      "source": [
        "# 2. สำรวจและเตรียมข้อมูล"
      ],
      "metadata": {
        "id": "4ZjioR8VlSma"
      }
    },
    {
      "cell_type": "markdown",
      "source": [
        "## 2.1 โหลด Dataset"
      ],
      "metadata": {
        "id": "S1eq8L_ClU9c"
      }
    },
    {
      "cell_type": "code",
      "source": [
        "import pandas as pd\n",
        "\n",
        "# โหลดไฟล์ CSV\n",
        "data = pd.read_csv(\"laptop_data.csv\")\n",
        "\n",
        "# แสดงข้อมูลตัวอย่าง\n",
        "print(data.head())"
      ],
      "metadata": {
        "colab": {
          "base_uri": "https://localhost:8080/"
        },
        "id": "bdJ2TVPklEct",
        "outputId": "17126ade-cde4-45b4-c9e3-930a4ce13c3b"
      },
      "execution_count": null,
      "outputs": [
        {
          "output_type": "stream",
          "name": "stdout",
          "text": [
            "   Unnamed: 0 Company   TypeName  Inches                    ScreenResolution  \\\n",
            "0           0   Apple  Ultrabook    13.3  IPS Panel Retina Display 2560x1600   \n",
            "1           1   Apple  Ultrabook    13.3                            1440x900   \n",
            "2           2      HP   Notebook    15.6                   Full HD 1920x1080   \n",
            "3           3   Apple  Ultrabook    15.4  IPS Panel Retina Display 2880x1800   \n",
            "4           4   Apple  Ultrabook    13.3  IPS Panel Retina Display 2560x1600   \n",
            "\n",
            "                          Cpu   Ram               Memory  \\\n",
            "0        Intel Core i5 2.3GHz   8GB            128GB SSD   \n",
            "1        Intel Core i5 1.8GHz   8GB  128GB Flash Storage   \n",
            "2  Intel Core i5 7200U 2.5GHz   8GB            256GB SSD   \n",
            "3        Intel Core i7 2.7GHz  16GB            512GB SSD   \n",
            "4        Intel Core i5 3.1GHz   8GB            256GB SSD   \n",
            "\n",
            "                            Gpu  OpSys  Weight        Price  \n",
            "0  Intel Iris Plus Graphics 640  macOS  1.37kg   71378.6832  \n",
            "1        Intel HD Graphics 6000  macOS  1.34kg   47895.5232  \n",
            "2         Intel HD Graphics 620  No OS  1.86kg   30636.0000  \n",
            "3            AMD Radeon Pro 455  macOS  1.83kg  135195.3360  \n",
            "4  Intel Iris Plus Graphics 650  macOS  1.37kg   96095.8080  \n"
          ]
        }
      ]
    },
    {
      "cell_type": "markdown",
      "source": [
        "## 2.2 ตรวจสอบข้อมูล"
      ],
      "metadata": {
        "id": "03Io8DqJlX1O"
      }
    },
    {
      "cell_type": "code",
      "source": [
        "# แสดงคอลัมน์ทั้งหมด\n",
        "print(data.columns)\n",
        "\n",
        "# ตรวจสอบข้อมูลที่หายไป\n",
        "print(data.isnull().sum())\n",
        "\n",
        "# ดูข้อมูลสถิติเบื้องต้น\n",
        "print(data.describe())\n"
      ],
      "metadata": {
        "colab": {
          "base_uri": "https://localhost:8080/"
        },
        "id": "Itg2Ixf6lXWy",
        "outputId": "fff3a847-a2c4-4901-cab4-119be6deffa5"
      },
      "execution_count": null,
      "outputs": [
        {
          "output_type": "stream",
          "name": "stdout",
          "text": [
            "Index(['Unnamed: 0', 'Company', 'TypeName', 'Inches', 'ScreenResolution',\n",
            "       'Cpu', 'Ram', 'Memory', 'Gpu', 'OpSys', 'Weight', 'Price'],\n",
            "      dtype='object')\n",
            "Unnamed: 0          0\n",
            "Company             0\n",
            "TypeName            0\n",
            "Inches              0\n",
            "ScreenResolution    0\n",
            "Cpu                 0\n",
            "Ram                 0\n",
            "Memory              0\n",
            "Gpu                 0\n",
            "OpSys               0\n",
            "Weight              0\n",
            "Price               0\n",
            "dtype: int64\n",
            "       Unnamed: 0       Inches          Price\n",
            "count  1303.00000  1303.000000    1303.000000\n",
            "mean    651.00000    15.017191   59870.042910\n",
            "std     376.28801     1.426304   37243.201786\n",
            "min       0.00000    10.100000    9270.720000\n",
            "25%     325.50000    14.000000   31914.720000\n",
            "50%     651.00000    15.600000   52054.560000\n",
            "75%     976.50000    15.600000   79274.246400\n",
            "max    1302.00000    18.400000  324954.720000\n"
          ]
        }
      ]
    },
    {
      "cell_type": "markdown",
      "source": [
        "## 2.4 แปลงข้อมูล Categorical"
      ],
      "metadata": {
        "id": "cCvfQSXOmtN6"
      }
    },
    {
      "cell_type": "code",
      "source": [
        "from sklearn.preprocessing import LabelEncoder\n",
        "\n",
        "# แปลงข้อมูลข้อความเป็นตัวเลข\n",
        "label_encoders = {}\n",
        "for col in ['Company', 'TypeName', 'Gpu']:\n",
        "    label_encoders[col] = LabelEncoder()\n",
        "    data[col] = label_encoders[col].fit_transform(data[col])\n",
        "\n",
        "# ตรวจสอบข้อมูลที่แปลงแล้ว\n",
        "print(data.head())"
      ],
      "metadata": {
        "colab": {
          "base_uri": "https://localhost:8080/"
        },
        "id": "tMJG6_5olz5O",
        "outputId": "b7e61cca-2dbf-443e-c7b6-4f3ed84cbf68"
      },
      "execution_count": null,
      "outputs": [
        {
          "output_type": "stream",
          "name": "stdout",
          "text": [
            "   Unnamed: 0  Company  TypeName  Inches                    ScreenResolution  \\\n",
            "0           0        1         4    13.3  IPS Panel Retina Display 2560x1600   \n",
            "1           1        1         4    13.3                            1440x900   \n",
            "2           2        7         3    15.6                   Full HD 1920x1080   \n",
            "3           3        1         4    15.4  IPS Panel Retina Display 2880x1800   \n",
            "4           4        1         4    13.3  IPS Panel Retina Display 2560x1600   \n",
            "\n",
            "                          Cpu   Ram               Memory  Gpu  OpSys  Weight  \\\n",
            "0        Intel Core i5 2.3GHz   8GB            128GB SSD   58  macOS  1.37kg   \n",
            "1        Intel Core i5 1.8GHz   8GB  128GB Flash Storage   51  macOS  1.34kg   \n",
            "2  Intel Core i5 7200U 2.5GHz   8GB            256GB SSD   53  No OS  1.86kg   \n",
            "3        Intel Core i7 2.7GHz  16GB            512GB SSD    9  macOS  1.83kg   \n",
            "4        Intel Core i5 3.1GHz   8GB            256GB SSD   59  macOS  1.37kg   \n",
            "\n",
            "         Price  \n",
            "0   71378.6832  \n",
            "1   47895.5232  \n",
            "2   30636.0000  \n",
            "3  135195.3360  \n",
            "4   96095.8080  \n"
          ]
        }
      ]
    },
    {
      "cell_type": "code",
      "source": [
        "print(X_train.dtypes)"
      ],
      "metadata": {
        "colab": {
          "base_uri": "https://localhost:8080/"
        },
        "id": "3-2TbFPOn6qX",
        "outputId": "eef5f51e-d3e0-488f-9cce-9fd93aac14dd"
      },
      "execution_count": null,
      "outputs": [
        {
          "output_type": "stream",
          "name": "stdout",
          "text": [
            "Unnamed: 0            float64\n",
            "Company               float64\n",
            "TypeName              float64\n",
            "Inches                float64\n",
            "ScreenResolution      float64\n",
            "Cpu                    object\n",
            "Ram                    object\n",
            "Memory                 object\n",
            "Gpu                   float64\n",
            "Weight                 object\n",
            "OpSys_Android         float64\n",
            "OpSys_Chrome OS       float64\n",
            "OpSys_Linux           float64\n",
            "OpSys_Mac OS X        float64\n",
            "OpSys_No OS           float64\n",
            "OpSys_Windows 10      float64\n",
            "OpSys_Windows 10 S    float64\n",
            "OpSys_Windows 7       float64\n",
            "OpSys_macOS           float64\n",
            "dtype: object\n"
          ]
        }
      ]
    },
    {
      "cell_type": "code",
      "source": [
        "print(\"Unique values in Cpu:\", X_train['Cpu'].unique())\n",
        "print(\"Unique values in Ram:\", X_train['Ram'].unique())\n",
        "print(\"Unique values in Memory:\", X_train['Memory'].unique())\n",
        "print(\"Unique values in Weight:\", X_train['Weight'].unique())"
      ],
      "metadata": {
        "colab": {
          "base_uri": "https://localhost:8080/"
        },
        "id": "bDzccC1foTNx",
        "outputId": "c3a57950-db0e-4944-88a0-13c25f9e8518"
      },
      "execution_count": null,
      "outputs": [
        {
          "output_type": "stream",
          "name": "stdout",
          "text": [
            "Unique values in Cpu: [ 63  30  77  80  84  66  70  94  90  81  58  36  85  51  29  20  48   5\n",
            "  92  71  33  26  53  76  65  28  22   7  24  39  87  88   2  46  42  37\n",
            "  23  15  49  73  86  13  82  50  98  12  91  93  31  74  34  60  79  72\n",
            "   1   9  21  18  52  55  99  25 100  35  67  32  10  57  44  83  54   4\n",
            "  95  56   8  19   6  62   0  89  27  47   3  78  17  16  45  69  41  38\n",
            "  68  75  14  11 101  97 102  96  40  43  59  61  64 103]\n",
            "Unique values in Ram: ['4GB' '6GB' '16GB' '8GB' '64GB' '12GB' '32GB' '2GB' '24GB' nan]\n",
            "Unique values in Memory: ['500GB HDD' '1TB HDD' '128GB SSD +  1TB HDD' '512GB SSD' '256GB SSD'\n",
            " '512GB SSD +  1TB HDD' '1TB SSD' '128GB SSD' '256GB SSD +  1TB HDD'\n",
            " '512GB Flash Storage' '128GB HDD' '180GB SSD' '256GB SSD +  1.0TB Hybrid'\n",
            " '2TB HDD' '32GB Flash Storage' '16GB SSD' '256GB Flash Storage'\n",
            " '512GB SSD +  512GB SSD' '128GB SSD +  2TB HDD' '16GB Flash Storage'\n",
            " '256GB SSD +  2TB HDD' '1TB SSD +  1TB HDD' '1.0TB Hybrid'\n",
            " '64GB Flash Storage' '128GB Flash Storage' '32GB SSD'\n",
            " '512GB SSD +  2TB HDD' '8GB SSD' '1.0TB HDD' '256GB SSD +  500GB HDD'\n",
            " '512GB SSD +  256GB SSD' '256GB SSD +  256GB SSD' '240GB SSD'\n",
            " '508GB Hybrid' '1TB HDD +  1TB HDD' '64GB SSD' nan]\n",
            "Unique values in Weight: ['1.86kg' '2kg' '2.19kg' '2.72kg' '1.29kg' '1.64kg' '1.1kg' '1.09kg'\n",
            " '1.62kg' '2.9kg' '3.58kg' '1.63kg' '1.6kg' '1.5kg' '4.42kg' '2.24kg'\n",
            " '0.920kg' '1.56kg' '2.3kg' '1.3kg' '2.18kg' '1.44kg' '2.2kg' '4.6kg'\n",
            " '1.4kg' '3.2kg' '1.74kg' '1.36kg' '2.32kg' '2.8kg' '2.1kg' '1.43kg'\n",
            " '2.67kg' '1.11kg' '1.91kg' '4.3kg' '2.31kg' '1.55kg' '1.93kg' '1.90kg'\n",
            " '1.7kg' '2.05kg' '2.83kg' '2.7kg' '1.26kg' '1.08kg' '1.17kg' '1.47kg'\n",
            " '2.15kg' '1.88kg' '2.62kg' '2.4kg' '1.85kg' '1.32kg' '2.37kg' '4.36kg'\n",
            " '1.35kg' '2.5kg' '1.71kg' '1.38kg' '2.71kg' '2.65kg' '1.49kg' '2.02kg'\n",
            " '2.54kg' '1.15kg' '1.75kg' '2.23kg' '1.8kg' '2.591kg' '0.97kg' '1.28kg'\n",
            " '2.33kg' '2.63kg' '1.25kg' '2.0kg' '1.95kg' '1.9kg' '3.3kg' '1.2kg'\n",
            " '1.42kg' '2.79kg' '1.84kg' '1.89kg' '2.69kg' '1.54kg' '1.05kg' '3.21kg'\n",
            " '2.6kg' '1.83kg' '1.23kg' '2.04kg' '1.59kg' '2.17kg' '3kg' '2.06kg'\n",
            " '1.24kg' '2.73kg' '1.65kg' '1.34kg' '1.37kg' '1.96kg' '2.26kg' '1.21kg'\n",
            " '3.52kg' '1.87kg' '4.0kg' '1.48kg' '1.22kg' '2.20kg' '2.13kg' '0.69kg'\n",
            " '2.16kg' '3.14kg' '3.31kg' '2.07kg' '2.36kg' '0.98kg' '1.252kg' '1.98kg'\n",
            " '2.25kg' '4.7kg' '2.08kg' '1.41kg' '4.4kg' '2.29kg' '3.0kg' '1.39kg'\n",
            " '4.14kg' '3.25kg' '1.13kg' '4.2kg' '1.79kg' '2.45kg' '1.27kg' '2.191kg'\n",
            " '2.77kg' '2.59kg' '3.78kg' '2.43kg' '2.14kg' '1.45kg' '2.09kg' '1.68kg'\n",
            " '1.70kg' '2.34kg' '2.56kg' '1.31kg' '1.18kg' '4kg' '1.12kg' '3.49kg'\n",
            " '1.58kg' '1.99kg' '1.76kg' '1.94kg' '1.19kg' '3.74kg' '1.16kg' '0.91kg'\n",
            " '0.99kg' '1.78kg' '2.03kg' '2.94kg' '3.4kg' '2.38kg' '2.21kg' '1.14kg'\n",
            " '0.92kg' '3.35kg' nan]\n"
          ]
        }
      ]
    },
    {
      "cell_type": "code",
      "source": [
        "# ลบ 'GB' ออกจาก Ram และแปลงเป็น float\n",
        "X_train['Ram'] = X_train['Ram'].str.replace('GB', '').astype(float)\n",
        "X_test['Ram'] = X_test['Ram'].str.replace('GB', '').astype(float)"
      ],
      "metadata": {
        "id": "_50-s3vHowoY"
      },
      "execution_count": null,
      "outputs": []
    },
    {
      "cell_type": "code",
      "source": [
        "import numpy as np\n",
        "import pandas as pd\n",
        "\n",
        "def convert_memory(mem):\n",
        "    \"\"\" แปลง Memory เช่น '128GB SSD + 1TB HDD' เป็น HDD และ SSD \"\"\"\n",
        "    hdd = 0\n",
        "    ssd = 0\n",
        "    flash = 0\n",
        "    hybrid = 0\n",
        "\n",
        "    if pd.isna(mem):  # ตรวจสอบค่า NaN\n",
        "        return pd.Series([0, 0, 0, 0])  # ถ้าเป็น NaN ให้คืนค่า 0 ทั้งหมด\n",
        "\n",
        "    mem = str(mem)  # แปลงให้เป็น string\n",
        "    mem = mem.replace(\"TB\", \"000GB\")  # แปลง 1TB เป็น 1000GB\n",
        "    mem = mem.replace(\" \", \"\")  # ลบช่องว่างทั้งหมด เช่น \"128GB SSD + 1TB HDD\" → \"128GBSSD+1000GBHDD\"\n",
        "\n",
        "    # แยกข้อมูลเป็นรายการ โดยใช้ \"+\"\n",
        "    parts = mem.split(\"+\")\n",
        "\n",
        "    for part in parts:\n",
        "        size = \"\".join([c for c in part if c.isdigit()])  # ดึงตัวเลขออกมา\n",
        "        storage_type = \"\".join([c for c in part if not c.isdigit()])  # ดึงตัวอักษรออกมา\n",
        "\n",
        "        if size:  # ถ้ามีตัวเลข\n",
        "            size = float(size)\n",
        "            if \"HDD\" in storage_type:\n",
        "                hdd += size\n",
        "            elif \"SSD\" in storage_type:\n",
        "                ssd += size\n",
        "            elif \"FlashStorage\" in storage_type:\n",
        "                flash += size\n",
        "            elif \"Hybrid\" in storage_type:\n",
        "                hybrid += size\n",
        "\n",
        "    return pd.Series([hdd, ssd, flash, hybrid])\n",
        "\n",
        "# ใช้กับ DataFrame\n",
        "X_train[['HDD', 'SSD', 'Flash_Storage', 'Hybrid']] = X_train['Memory'].apply(convert_memory)\n",
        "X_test[['HDD', 'SSD', 'Flash_Storage', 'Hybrid']] = X_test['Memory'].apply(convert_memory)\n",
        "\n",
        "# ลบคอลัมน์ Memory เดิม\n",
        "X_train = X_train.drop(columns=['Memory'])\n",
        "X_test = X_test.drop(columns=['Memory'])\n",
        "\n",
        "# ตรวจสอบผลลัพธ์\n",
        "print(X_train.head())"
      ],
      "metadata": {
        "colab": {
          "base_uri": "https://localhost:8080/"
        },
        "id": "MQEoGv1Ho0B4",
        "outputId": "c59bf4b7-5e9a-4465-cf6b-6d76cd24d3eb"
      },
      "execution_count": null,
      "outputs": [
        {
          "output_type": "stream",
          "name": "stdout",
          "text": [
            "      Unnamed: 0  Company  TypeName  Inches  ScreenResolution  Cpu   Ram  \\\n",
            "10          10.0      7.0       3.0    15.6               0.0   63   4.0   \n",
            "147        147.0      2.0       3.0    15.6               8.0   30   4.0   \n",
            "1287      1287.0      7.0       3.0    15.6               0.0   77   6.0   \n",
            "767        767.0      4.0       1.0    15.6              24.0   80  16.0   \n",
            "816        816.0     14.0       4.0    12.5              11.0   84  16.0   \n",
            "\n",
            "       Gpu  Weight  OpSys_Android  ...  OpSys_Mac OS X  OpSys_No OS  \\\n",
            "10    53.0  1.86kg            0.0  ...             0.0          0.0   \n",
            "147   43.0     2kg            0.0  ...             0.0          0.0   \n",
            "1287  21.0  2.19kg            NaN  ...             NaN          NaN   \n",
            "767   89.0  2.72kg            0.0  ...             0.0          0.0   \n",
            "816   53.0  1.29kg            0.0  ...             0.0          0.0   \n",
            "\n",
            "      OpSys_Windows 10  OpSys_Windows 10 S  OpSys_Windows 7  OpSys_macOS  \\\n",
            "10                 1.0                 0.0              0.0          0.0   \n",
            "147                0.0                 0.0              1.0          0.0   \n",
            "1287               NaN                 NaN              NaN          NaN   \n",
            "767                0.0                 0.0              0.0          1.0   \n",
            "816                1.0                 0.0              0.0          0.0   \n",
            "\n",
            "         HDD    SSD  Flash_Storage  Hybrid  \n",
            "10     500.0    0.0            0.0     0.0  \n",
            "147   1000.0    0.0            0.0     0.0  \n",
            "1287  1000.0    0.0            0.0     0.0  \n",
            "767   1000.0  128.0            0.0     0.0  \n",
            "816      0.0  512.0            0.0     0.0  \n",
            "\n",
            "[5 rows x 22 columns]\n"
          ]
        }
      ]
    },
    {
      "cell_type": "markdown",
      "source": [
        "# Step 3: สร้างโมเดล Machine Learning เพื่อพยากรณ์ราคาแล็ปท็อป"
      ],
      "metadata": {
        "id": "n0r5BHPOp8Kp"
      }
    },
    {
      "cell_type": "markdown",
      "source": [
        "## 3.1 แยก Features และ Target Variable"
      ],
      "metadata": {
        "id": "2DGPMclPp_XF"
      }
    },
    {
      "cell_type": "code",
      "source": [
        "# แยก X และ y\n",
        "X = X_train.copy()  # ใช้ Features ทั้งหมด\n",
        "y = y_train.copy()  # Target คือ Price\n",
        "\n",
        "# ตรวจสอบขนาดของข้อมูล\n",
        "print(f\"Shape of X: {X.shape}\")\n",
        "print(f\"Shape of y: {y.shape}\")"
      ],
      "metadata": {
        "colab": {
          "base_uri": "https://localhost:8080/"
        },
        "id": "_3S2o5PDnFoK",
        "outputId": "c2229b0d-481c-4911-d6d4-4780bf0bb730"
      },
      "execution_count": null,
      "outputs": [
        {
          "output_type": "stream",
          "name": "stdout",
          "text": [
            "Shape of X: (1252, 22)\n",
            "Shape of y: (1042,)\n"
          ]
        }
      ]
    },
    {
      "cell_type": "markdown",
      "source": [
        "## 3.2 แบ่งข้อมูลเป็น Training และ Testing Set"
      ],
      "metadata": {
        "id": "G7lqWlkNqF1d"
      }
    },
    {
      "cell_type": "code",
      "source": [
        "from sklearn.model_selection import train_test_split\n",
        "\n",
        "# แบ่งข้อมูล\n",
        "X_train, X_test, y_train, y_test = train_test_split(X, y, test_size=0.2, random_state=42) #แบ่งเป็น 80/20\n",
        "\n",
        "print(f\"Training data: {X_train.shape}\")\n",
        "print(f\"Testing data: {X_test.shape}\")"
      ],
      "metadata": {
        "colab": {
          "base_uri": "https://localhost:8080/",
          "height": 721
        },
        "id": "tA9D6Bq_qB4g",
        "outputId": "81e8cc4b-ecfc-40a8-d1c8-40a442225f0f"
      },
      "execution_count": null,
      "outputs": [
        {
          "output_type": "error",
          "ename": "ValueError",
          "evalue": "Found input variables with inconsistent numbers of samples: [1252, 1042]",
          "traceback": [
            "\u001b[0;31m---------------------------------------------------------------------------\u001b[0m",
            "\u001b[0;31mValueError\u001b[0m                                Traceback (most recent call last)",
            "\u001b[0;32m<ipython-input-27-7c7817376bb7>\u001b[0m in \u001b[0;36m<cell line: 0>\u001b[0;34m()\u001b[0m\n\u001b[1;32m      2\u001b[0m \u001b[0;34m\u001b[0m\u001b[0m\n\u001b[1;32m      3\u001b[0m \u001b[0;31m# แบ่งข้อมูล\u001b[0m\u001b[0;34m\u001b[0m\u001b[0;34m\u001b[0m\u001b[0m\n\u001b[0;32m----> 4\u001b[0;31m \u001b[0mX_train\u001b[0m\u001b[0;34m,\u001b[0m \u001b[0mX_test\u001b[0m\u001b[0;34m,\u001b[0m \u001b[0my_train\u001b[0m\u001b[0;34m,\u001b[0m \u001b[0my_test\u001b[0m \u001b[0;34m=\u001b[0m \u001b[0mtrain_test_split\u001b[0m\u001b[0;34m(\u001b[0m\u001b[0mX\u001b[0m\u001b[0;34m,\u001b[0m \u001b[0my\u001b[0m\u001b[0;34m,\u001b[0m \u001b[0mtest_size\u001b[0m\u001b[0;34m=\u001b[0m\u001b[0;36m0.2\u001b[0m\u001b[0;34m,\u001b[0m \u001b[0mrandom_state\u001b[0m\u001b[0;34m=\u001b[0m\u001b[0;36m42\u001b[0m\u001b[0;34m)\u001b[0m \u001b[0;31m#แบ่งเป็น 80/20\u001b[0m\u001b[0;34m\u001b[0m\u001b[0;34m\u001b[0m\u001b[0m\n\u001b[0m\u001b[1;32m      5\u001b[0m \u001b[0;34m\u001b[0m\u001b[0m\n\u001b[1;32m      6\u001b[0m \u001b[0mprint\u001b[0m\u001b[0;34m(\u001b[0m\u001b[0;34mf\"Training data: {X_train.shape}\"\u001b[0m\u001b[0;34m)\u001b[0m\u001b[0;34m\u001b[0m\u001b[0;34m\u001b[0m\u001b[0m\n",
            "\u001b[0;32m/usr/local/lib/python3.11/dist-packages/sklearn/utils/_param_validation.py\u001b[0m in \u001b[0;36mwrapper\u001b[0;34m(*args, **kwargs)\u001b[0m\n\u001b[1;32m    214\u001b[0m                     )\n\u001b[1;32m    215\u001b[0m                 ):\n\u001b[0;32m--> 216\u001b[0;31m                     \u001b[0;32mreturn\u001b[0m \u001b[0mfunc\u001b[0m\u001b[0;34m(\u001b[0m\u001b[0;34m*\u001b[0m\u001b[0margs\u001b[0m\u001b[0;34m,\u001b[0m \u001b[0;34m**\u001b[0m\u001b[0mkwargs\u001b[0m\u001b[0;34m)\u001b[0m\u001b[0;34m\u001b[0m\u001b[0;34m\u001b[0m\u001b[0m\n\u001b[0m\u001b[1;32m    217\u001b[0m             \u001b[0;32mexcept\u001b[0m \u001b[0mInvalidParameterError\u001b[0m \u001b[0;32mas\u001b[0m \u001b[0me\u001b[0m\u001b[0;34m:\u001b[0m\u001b[0;34m\u001b[0m\u001b[0;34m\u001b[0m\u001b[0m\n\u001b[1;32m    218\u001b[0m                 \u001b[0;31m# When the function is just a wrapper around an estimator, we allow\u001b[0m\u001b[0;34m\u001b[0m\u001b[0;34m\u001b[0m\u001b[0m\n",
            "\u001b[0;32m/usr/local/lib/python3.11/dist-packages/sklearn/model_selection/_split.py\u001b[0m in \u001b[0;36mtrain_test_split\u001b[0;34m(test_size, train_size, random_state, shuffle, stratify, *arrays)\u001b[0m\n\u001b[1;32m   2846\u001b[0m         \u001b[0;32mraise\u001b[0m \u001b[0mValueError\u001b[0m\u001b[0;34m(\u001b[0m\u001b[0;34m\"At least one array required as input\"\u001b[0m\u001b[0;34m)\u001b[0m\u001b[0;34m\u001b[0m\u001b[0;34m\u001b[0m\u001b[0m\n\u001b[1;32m   2847\u001b[0m \u001b[0;34m\u001b[0m\u001b[0m\n\u001b[0;32m-> 2848\u001b[0;31m     \u001b[0marrays\u001b[0m \u001b[0;34m=\u001b[0m \u001b[0mindexable\u001b[0m\u001b[0;34m(\u001b[0m\u001b[0;34m*\u001b[0m\u001b[0marrays\u001b[0m\u001b[0;34m)\u001b[0m\u001b[0;34m\u001b[0m\u001b[0;34m\u001b[0m\u001b[0m\n\u001b[0m\u001b[1;32m   2849\u001b[0m \u001b[0;34m\u001b[0m\u001b[0m\n\u001b[1;32m   2850\u001b[0m     \u001b[0mn_samples\u001b[0m \u001b[0;34m=\u001b[0m \u001b[0m_num_samples\u001b[0m\u001b[0;34m(\u001b[0m\u001b[0marrays\u001b[0m\u001b[0;34m[\u001b[0m\u001b[0;36m0\u001b[0m\u001b[0;34m]\u001b[0m\u001b[0;34m)\u001b[0m\u001b[0;34m\u001b[0m\u001b[0;34m\u001b[0m\u001b[0m\n",
            "\u001b[0;32m/usr/local/lib/python3.11/dist-packages/sklearn/utils/validation.py\u001b[0m in \u001b[0;36mindexable\u001b[0;34m(*iterables)\u001b[0m\n\u001b[1;32m    530\u001b[0m \u001b[0;34m\u001b[0m\u001b[0m\n\u001b[1;32m    531\u001b[0m     \u001b[0mresult\u001b[0m \u001b[0;34m=\u001b[0m \u001b[0;34m[\u001b[0m\u001b[0m_make_indexable\u001b[0m\u001b[0;34m(\u001b[0m\u001b[0mX\u001b[0m\u001b[0;34m)\u001b[0m \u001b[0;32mfor\u001b[0m \u001b[0mX\u001b[0m \u001b[0;32min\u001b[0m \u001b[0miterables\u001b[0m\u001b[0;34m]\u001b[0m\u001b[0;34m\u001b[0m\u001b[0;34m\u001b[0m\u001b[0m\n\u001b[0;32m--> 532\u001b[0;31m     \u001b[0mcheck_consistent_length\u001b[0m\u001b[0;34m(\u001b[0m\u001b[0;34m*\u001b[0m\u001b[0mresult\u001b[0m\u001b[0;34m)\u001b[0m\u001b[0;34m\u001b[0m\u001b[0;34m\u001b[0m\u001b[0m\n\u001b[0m\u001b[1;32m    533\u001b[0m     \u001b[0;32mreturn\u001b[0m \u001b[0mresult\u001b[0m\u001b[0;34m\u001b[0m\u001b[0;34m\u001b[0m\u001b[0m\n\u001b[1;32m    534\u001b[0m \u001b[0;34m\u001b[0m\u001b[0m\n",
            "\u001b[0;32m/usr/local/lib/python3.11/dist-packages/sklearn/utils/validation.py\u001b[0m in \u001b[0;36mcheck_consistent_length\u001b[0;34m(*arrays)\u001b[0m\n\u001b[1;32m    473\u001b[0m     \u001b[0muniques\u001b[0m \u001b[0;34m=\u001b[0m \u001b[0mnp\u001b[0m\u001b[0;34m.\u001b[0m\u001b[0munique\u001b[0m\u001b[0;34m(\u001b[0m\u001b[0mlengths\u001b[0m\u001b[0;34m)\u001b[0m\u001b[0;34m\u001b[0m\u001b[0;34m\u001b[0m\u001b[0m\n\u001b[1;32m    474\u001b[0m     \u001b[0;32mif\u001b[0m \u001b[0mlen\u001b[0m\u001b[0;34m(\u001b[0m\u001b[0muniques\u001b[0m\u001b[0;34m)\u001b[0m \u001b[0;34m>\u001b[0m \u001b[0;36m1\u001b[0m\u001b[0;34m:\u001b[0m\u001b[0;34m\u001b[0m\u001b[0;34m\u001b[0m\u001b[0m\n\u001b[0;32m--> 475\u001b[0;31m         raise ValueError(\n\u001b[0m\u001b[1;32m    476\u001b[0m             \u001b[0;34m\"Found input variables with inconsistent numbers of samples: %r\"\u001b[0m\u001b[0;34m\u001b[0m\u001b[0;34m\u001b[0m\u001b[0m\n\u001b[1;32m    477\u001b[0m             \u001b[0;34m%\u001b[0m \u001b[0;34m[\u001b[0m\u001b[0mint\u001b[0m\u001b[0;34m(\u001b[0m\u001b[0ml\u001b[0m\u001b[0;34m)\u001b[0m \u001b[0;32mfor\u001b[0m \u001b[0ml\u001b[0m \u001b[0;32min\u001b[0m \u001b[0mlengths\u001b[0m\u001b[0;34m]\u001b[0m\u001b[0;34m\u001b[0m\u001b[0;34m\u001b[0m\u001b[0m\n",
            "\u001b[0;31mValueError\u001b[0m: Found input variables with inconsistent numbers of samples: [1252, 1042]"
          ]
        }
      ]
    },
    {
      "cell_type": "code",
      "source": [],
      "metadata": {
        "id": "oFVO4YAhqKvp"
      },
      "execution_count": null,
      "outputs": []
    }
  ]
}